{
 "cells": [
  {
   "cell_type": "code",
   "execution_count": null,
   "id": "146dfb66",
   "metadata": {
    "execution": {
     "iopub.execute_input": "2025-01-22T05:17:05.093845Z",
     "iopub.status.busy": "2025-01-22T05:17:05.093071Z",
     "iopub.status.idle": "2025-01-22T05:17:05.375265Z",
     "shell.execute_reply": "2025-01-22T05:17:05.373620Z"
    },
    "papermill": {
     "duration": null,
     "end_time": null,
     "exception": false,
     "start_time": "2025-01-22T05:17:13.823941",
     "status": "running"
    },
    "tags": []
   },
   "outputs": [],
   "source": [
    "import subprocess\n",
    "import sys\n",
    "from pathlib import Path\n",
    "import os\n",
    "\n",
    "# Define the path to the methylGPT directory and script\n",
    "methylGPT_path = \"methylgpt\"\n",
    "script_path =  \"pretraining.py\"\n",
    "\n",
    "os.chdir(\"../\"+methylGPT_path)\n",
    "\n",
    "# Define the command to run with arguments\n",
    "command = [\n",
    "    \"python3\",\n",
    "    str(script_path),\n",
    "    \"--device\", \"cuda:0\",            # Default value for device\n",
    "    \"--data_type\", \"3\",              # Default value for data_type\n",
    "    \"--savename\", \"pretraining_test\" # Default value for savename\n",
    "]\n",
    "\n",
    "try:\n",
    "    # Run the command and capture output\n",
    "    result = subprocess.run(command, text=True, capture_output=True, check=True)\n",
    "\n",
    "    # Print standard output and errors\n",
    "    print(\"Output:\")\n",
    "    print(result.stdout)\n",
    "\n",
    "    if result.stderr:\n",
    "        print(\"Errors:\")\n",
    "        print(result.stderr)\n",
    "\n",
    "except subprocess.CalledProcessError as e:\n",
    "    print(f\"Command failed with exit code {e.returncode}\")\n",
    "    print(f\"Error output: {e.stderr}\")\n"
   ]
  },
  {
   "cell_type": "code",
   "execution_count": null,
   "id": "c2a13d37",
   "metadata": {
    "papermill": {
     "duration": null,
     "end_time": null,
     "exception": null,
     "start_time": null,
     "status": "pending"
    },
    "tags": []
   },
   "outputs": [],
   "source": []
  }
 ],
 "metadata": {
  "kernelspec": {
   "display_name": "Python 3",
   "language": "python",
   "name": "python3"
  },
  "language_info": {
   "codemirror_mode": {
    "name": "ipython",
    "version": 3
   },
   "file_extension": ".py",
   "mimetype": "text/x-python",
   "name": "python",
   "nbconvert_exporter": "python",
   "pygments_lexer": "ipython3",
   "version": "3.11.2"
  },
  "papermill": {
   "default_parameters": {},
   "duration": null,
   "end_time": null,
   "environment_variables": {},
   "exception": null,
   "input_path": "pretraining.ipynb",
   "output_path": "pretraining.ipynb",
   "parameters": {},
   "start_time": "2025-01-22T05:17:12.662209",
   "version": "2.6.0"
  }
 },
 "nbformat": 4,
 "nbformat_minor": 5
}
